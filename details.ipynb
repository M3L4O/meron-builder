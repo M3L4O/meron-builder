{
 "cells": [
  {
   "cell_type": "code",
   "execution_count": 1,
   "id": "1ce9a178",
   "metadata": {},
   "outputs": [],
   "source": [
    "import json"
   ]
  },
  {
   "cell_type": "markdown",
   "id": "85e86edc",
   "metadata": {},
   "source": [
    "# Base de Dados de Componentes de Computadores\n",
    "\n",
    "---\n",
    "\n",
    "## O Que é Esta Base de Dados?\n",
    "\n",
    "- Um repositório centralizado com informações detalhadas sobre diversos componentes de computador.\n",
    "- **Total de Registros:** 6461.\n",
    "- **Categorias Incluídas:**\n",
    "    - CPUs (Processadores)\n",
    "    - GPUs (Placas de Vídeo)\n",
    "    - HDDs (Discos Rígidos)\n",
    "    - Motherboards (Placas-Mãe)\n",
    "    - PSUs (Fontes de Alimentação)\n",
    "    - RAM (Memória)\n",
    "    - SSDs (Unidades de Estado Sólido)\n",
    "- **Objetivo:** Facilitar a consulta, comparação e análise de especificações de hardware.\n",
    "\n",
    "---\n",
    "## Como os Dados Foram Coletados?\n",
    "\n",
    "- A base de dados foi populada através de **Web Scraping** no site [PCPartPicker](https://pcpartpicker.com).\n",
    "- **Tecnologia Utilizada:**\n",
    "    - Linguagem: **Python**\n",
    "    - Bibliotecas Principais:\n",
    "        - `requests`: Para fazer as requisições HTTP e obter o conteúdo HTML das páginas web (ex: sites de e-commerce, fabricantes, especificações).\n",
    "        - `Beautiful Soup`: Para analisar (parse) o código HTML e extrair de forma estruturada as informações relevantes de cada componente."
   ]
  },
  {
   "cell_type": "markdown",
   "id": "af6ecedf",
   "metadata": {},
   "source": [
    "# Detalhes dos Componentes\n",
    "\n",
    "### CPUs (Unidades Centrais de Processamento):\n",
    "\n",
    "- **Quantidade de Registros:** 324\n",
    "- **Informações Disponíveis:**\n",
    "    - `manufacturer`: Fabricante (ex: Intel, AMD).\n",
    "    - `model`: Modelo específico da CPU.\n",
    "    - `socket`: Tipo de soquete compatível (ex: LGA1700, AM4).\n",
    "    - `n_cores`: Número de núcleos.\n",
    "    - `base_clock_spd`: Velocidade de clock base (GHz).\n",
    "    - `boost_clock_spd`: Velocidade de clock boost (GHz).\n",
    "    - `consumption`: Consumo de energia (TDP em Watts).\n",
    "    - `integrated_gpu`: Presença de gráfico integrado (Nome/Vazio).\n",
    "    - `overclock`: Capacidade de overclock (Sim/Não)."
   ]
  },
  {
   "cell_type": "code",
   "execution_count": 7,
   "id": "37c90fa8",
   "metadata": {},
   "outputs": [
    {
     "name": "stdout",
     "output_type": "stream",
     "text": [
      "Número de CPUs: 324\n"
     ]
    },
    {
     "data": {
      "text/plain": [
       "{'manufacturer': 'AMD',\n",
       " 'model': 'AMD Ryzen 7 5800X',\n",
       " 'socket': 'AM4',\n",
       " 'n_cores': 8,\n",
       " 'base_clock_spd': '3.8 GHz',\n",
       " 'boost_clock_spd': '4.7 GHz',\n",
       " 'consumption': '105 W',\n",
       " 'integrated_gpu': '',\n",
       " 'overclock': True}"
      ]
     },
     "execution_count": 7,
     "metadata": {},
     "output_type": "execute_result"
    }
   ],
   "source": [
    "with open(\"components/cpus_clean.json\") as cpu_file:\n",
    "    cpus = json.load(cpu_file)\n",
    "\n",
    "print(f\"Número de CPUs: {len(cpus)}\")\n",
    "cpus[10]"
   ]
  },
  {
   "cell_type": "markdown",
   "id": "dad4a3b4",
   "metadata": {},
   "source": [
    "### GPUs (Unidades de Processamento Gráfico):\n",
    "\n",
    "- **Quantidade de Registros:** 1325\n",
    "- **Informações Disponíveis:**\n",
    "    - `manufacturer`: Fabricante (ex: Nvidia, AMD, Intel).\n",
    "    - `model`: Modelo específico da GPU.\n",
    "    - `consumption`: Consumo de energia (Watts).\n",
    "    - `vram`: Quantidade de memória de vídeo (GB).\n",
    "    - `vram_spd`: Velocidade da memória de vídeo (MHz)."
   ]
  },
  {
   "cell_type": "code",
   "execution_count": null,
   "id": "ae457f56",
   "metadata": {},
   "outputs": [
    {
     "name": "stdout",
     "output_type": "stream",
     "text": [
      "Número de GPUs: 1325\n"
     ]
    },
    {
     "data": {
      "text/plain": [
       "{'manufacturer': 'ASUS',\n",
       " 'model': 'ASUS GeForce RTX 3060 ROG Strix OC',\n",
       " 'consumption': '170 W',\n",
       " 'vram': '12 GB',\n",
       " 'vram_spd': '7500 MHz'}"
      ]
     },
     "execution_count": 6,
     "metadata": {},
     "output_type": "execute_result"
    }
   ],
   "source": [
    "with open(\"components/gpus_clean.json\") as gpu_file:\n",
    "    gpus = json.load(gpu_file)\n",
    "\n",
    "print(f\"Número de GPUs: {len(gpus)}\")\n",
    "gpus[10]"
   ]
  },
  {
   "cell_type": "markdown",
   "id": "70789b19",
   "metadata": {},
   "source": [
    "### Motherboards (Placas-Mãe):\n",
    "\n",
    "- **Quantidade de Registros:** 1545\n",
    "- **Informações Disponíveis:**\n",
    "    - `manufacturer`: Fabricante\n",
    "    - `model`: Modelo específico da Placa Mãe.\n",
    "    - `socket`: Tipo de socket.\n",
    "    - `board_size`: (Form Factor: ATX, Micro-ATX, etc.)\n",
    "    - `n_ram_slots`: Número de slots de RAM.\n",
    "    - `Memory Type`: Tipo de memória RAM suportada (ex: DDR4, DDR5).\n",
    "    - `Memory Capacity`: Capacidade máxima de RAM (GB).\n",
    "    - `Supported Ramspeeds`: Velocidades de RAM suportadas (MHz).\n",
    "    - Conectividade de Armazenamento: `SATA`, `M.2 (PCI-E 3.0)`, `M.2 (PCI-E 4.0)`\n",
    "    - Slots de Expansão: `PCI-E 3.0` (x1, x4, x8, x16), `PCI-E 4.0` (x1, x4, x8, x16)\n",
    "    - Conectividade USB: `USB 3 Slots`, `USB 3 Headers`, `USB 3 Type-C`\n",
    "    - Saídas de Vídeo: `n_vga`, `n_display_port`, `n_hdmi`"
   ]
  },
  {
   "cell_type": "code",
   "execution_count": 10,
   "id": "93260930",
   "metadata": {},
   "outputs": [
    {
     "name": "stdout",
     "output_type": "stream",
     "text": [
      "Número de Placas-Mãe: 1545\n"
     ]
    },
    {
     "data": {
      "text/plain": [
       "{'manufacturer': 'ASRock',\n",
       " 'model': 'ASRock FM2A88M Pro3+',\n",
       " 'socket': 'FM2+',\n",
       " 'board_size': 'Micro-ATX',\n",
       " 'n_ram_slots': 4,\n",
       " 'Memory Type': 'DDR3',\n",
       " 'Memory Capacity': 64.0,\n",
       " 'Supported Ramspeeds': None,\n",
       " 'SATA': '8',\n",
       " 'M.2 (PCI-E 3.0)': 0.0,\n",
       " 'M.2 (PCI-E 4.0)': 0.0,\n",
       " 'PCI-E 3.0 x1': None,\n",
       " 'PCI-E 3.0 x4': None,\n",
       " 'PCI-E 3.0 x8': None,\n",
       " 'PCI-E 3.0 x16': 1.0,\n",
       " 'PCI-E 4.0 x1': None,\n",
       " 'PCI-E 4.0 x4': None,\n",
       " 'PCI-E 4.0 x8': None,\n",
       " 'PCI-E 4.0 x16': None,\n",
       " 'USB 3 Slots': 2.0,\n",
       " 'USB 3 Headers': 2.0,\n",
       " 'USB 3 Type-C': None,\n",
       " 'n_vga': 1.0,\n",
       " 'n_display_port': 0.0,\n",
       " 'n_hdmi': 1.0}"
      ]
     },
     "execution_count": 10,
     "metadata": {},
     "output_type": "execute_result"
    }
   ],
   "source": [
    "with open(\"components/motherboard_clean.json\") as motherboard_file:\n",
    "    motherboards = json.load(motherboard_file)\n",
    "\n",
    "print(f\"Número de Placas-Mãe: {len(motherboards)}\")\n",
    "motherboards[10]"
   ]
  },
  {
   "cell_type": "markdown",
   "id": "81636212",
   "metadata": {},
   "source": [
    "### RAM (Random Access Memory - Memória):\n",
    "\n",
    "- **Quantidade de Registros:** 1648\n",
    "- **Informações Disponíveis:**\n",
    "    - `manufacturer`: Fabricante (ex: G.Skill, Crucial).\n",
    "    - `model`: Modelo específico da memória ram.\n",
    "    - `generation`: Geração da memória (ex: DDR4, DDR5).\n",
    "    - `size`: Tamanho total do kit/módulo (GB).\n",
    "    - `frequency`: Frequência/Velocidade da memória (MHz)."
   ]
  },
  {
   "cell_type": "code",
   "execution_count": 11,
   "id": "3df75b46",
   "metadata": {},
   "outputs": [
    {
     "name": "stdout",
     "output_type": "stream",
     "text": [
      "Número de Memórias RAM: 1648\n"
     ]
    },
    {
     "data": {
      "text/plain": [
       "{'manufacturer': 'ADATA',\n",
       " 'model': 'ADATA XPG Spectrix RGB D41 red',\n",
       " 'generation': 'DDR4-3200',\n",
       " 'size': '16 GB',\n",
       " 'frequency': 3200}"
      ]
     },
     "execution_count": 11,
     "metadata": {},
     "output_type": "execute_result"
    }
   ],
   "source": [
    "with open(\"components/ram_clean.json\") as ram_file:\n",
    "    rams = json.load(ram_file)\n",
    "\n",
    "print(f\"Número de Memórias RAM: {len(rams)}\")\n",
    "rams[10]"
   ]
  },
  {
   "cell_type": "markdown",
   "id": "255e8f92",
   "metadata": {},
   "source": [
    "### HDDs (Hard Disk Drives):\n",
    "\n",
    "- **Quantidade de Registros:** 247\n",
    "- **Informações Disponíveis:**\n",
    "    - `manufacturer`: Fabricante (ex: Seagate, Western Digital).\n",
    "    - `model`: Modelo específico do HDD.\n",
    "    - `storage`: Capacidade de armazenamento (GB/TB).\n",
    "    - `rpm`: Velocidade de rotação (RPM).\n"
   ]
  },
  {
   "cell_type": "code",
   "execution_count": 12,
   "id": "ae74fe71",
   "metadata": {},
   "outputs": [
    {
     "name": "stdout",
     "output_type": "stream",
     "text": [
      "Número de HDs: 247\n"
     ]
    },
    {
     "data": {
      "text/plain": [
       "{'manufacturer': 'Hitachi HGST',\n",
       " 'model': 'Hitachi HGST Travelstar 7K1000',\n",
       " 'storage': '1 TB',\n",
       " 'rpm': 7200.0}"
      ]
     },
     "execution_count": 12,
     "metadata": {},
     "output_type": "execute_result"
    }
   ],
   "source": [
    "with open(\"components/hdds_clean.json\") as hdd_file:\n",
    "    hdds = json.load(hdd_file)\n",
    "\n",
    "print(f\"Número de HDs: {len(hdds)}\")\n",
    "hdds[10]"
   ]
  },
  {
   "cell_type": "markdown",
   "id": "48378c1d",
   "metadata": {},
   "source": [
    "### SSDs (Solid State Drives):\n",
    "\n",
    "- **Quantidade de Registros:** 456\n",
    "- **Informações Disponíveis:**\n",
    "    - `manufacturer`: Fabricante (ex: Samsung, Kingston).\n",
    "    - `model`: Modelo específico do SSD.\n",
    "    - `storage`: Capacidade de armazenamento (GB/TB).\n",
    "    - `io`: Interface/Protocolo (ex: SATA III, NVMe PCIe 3.0, NVMe PCIe 4.0)."
   ]
  },
  {
   "cell_type": "code",
   "execution_count": 13,
   "id": "72599f16",
   "metadata": {},
   "outputs": [
    {
     "name": "stdout",
     "output_type": "stream",
     "text": [
      "Número de SSDs: 456\n"
     ]
    },
    {
     "data": {
      "text/plain": [
       "{'manufacturer': 'Corsair',\n",
       " 'model': 'Corsair MP400 8000 GB',\n",
       " 'storage': '8000 GB',\n",
       " 'io': 'NVM'}"
      ]
     },
     "execution_count": 13,
     "metadata": {},
     "output_type": "execute_result"
    }
   ],
   "source": [
    "with open(\"components/ssds_clean.json\") as ssd_file:\n",
    "    ssds = json.load(ssd_file)\n",
    "\n",
    "print(f\"Número de SSDs: {len(ssds)}\")\n",
    "ssds[10]"
   ]
  },
  {
   "cell_type": "markdown",
   "id": "2ff9d9d2",
   "metadata": {},
   "source": [
    "### PSUs (Power Supply Units - Fontes de Alimentação):\n",
    "\n",
    "- **Quantidade de Registros:** 916\n",
    "- **Informações Disponíveis:**\n",
    "    - `manufacturer`: Fabricante (ex: Corsair, EVGA).\n",
    "    - `model`: Modelo específico da PSU.\n",
    "    - `power`: Potência fornecida (Watts).\n",
    "    - `rate`: Classificação de eficiência (ex: 80 Plus Bronze, Gold, Platinum)."
   ]
  },
  {
   "cell_type": "code",
   "execution_count": 14,
   "id": "5274b0ce",
   "metadata": {},
   "outputs": [
    {
     "name": "stdout",
     "output_type": "stream",
     "text": [
      "Número de HDs: 916\n"
     ]
    },
    {
     "data": {
      "text/plain": [
       "{'manufacturer': 'be quiet!',\n",
       " 'model': 'be quiet! Pure Power 11 80 PLUS Gold',\n",
       " 'power': 600,\n",
       " 'rate': '80 PLUS Gold'}"
      ]
     },
     "execution_count": 14,
     "metadata": {},
     "output_type": "execute_result"
    }
   ],
   "source": [
    "with open(\"components/psus_clean.json\") as psus_file:\n",
    "    psus = json.load(psus_file)\n",
    "\n",
    "print(f\"Número de HDs: {len(psus)}\")\n",
    "psus[10]"
   ]
  }
 ],
 "metadata": {
  "kernelspec": {
   "display_name": ".venv",
   "language": "python",
   "name": "python3"
  },
  "language_info": {
   "codemirror_mode": {
    "name": "ipython",
    "version": 3
   },
   "file_extension": ".py",
   "mimetype": "text/x-python",
   "name": "python",
   "nbconvert_exporter": "python",
   "pygments_lexer": "ipython3",
   "version": "3.13.3"
  }
 },
 "nbformat": 4,
 "nbformat_minor": 5
}
